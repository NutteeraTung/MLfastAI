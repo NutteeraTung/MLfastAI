{
 "cells": [
  {
   "cell_type": "code",
   "execution_count": 8,
   "id": "f99b32c2",
   "metadata": {},
   "outputs": [
    {
     "name": "stdout",
     "output_type": "stream",
     "text": [
      "Requirement already satisfied: fastai in c:\\users\\panda\\anaconda3\\envs\\py38\\lib\\site-packages (2.6.3)Note: you may need to restart the kernel to use updated packages.\n",
      "Requirement already satisfied: pip in c:\\users\\panda\\anaconda3\\envs\\py38\\lib\\site-packages (from fastai) (21.0.1)\n",
      "Requirement already satisfied: fastprogress>=0.2.4 in c:\\users\\panda\\anaconda3\\envs\\py38\\lib\\site-packages (from fastai) (1.0.2)\n",
      "Requirement already satisfied: requests in c:\\users\\panda\\anaconda3\\envs\\py38\\lib\\site-packages (from fastai) (2.26.0)\n",
      "Requirement already satisfied: pandas in c:\\users\\panda\\anaconda3\\envs\\py38\\lib\\site-packages (from fastai) (1.3.4)\n",
      "Requirement already satisfied: torch<1.12,>=1.7.0 in c:\\users\\panda\\anaconda3\\envs\\py38\\lib\\site-packages (from fastai) (1.11.0)\n",
      "Requirement already satisfied: pillow>6.0.0 in c:\\users\\panda\\anaconda3\\envs\\py38\\lib\\site-packages (from fastai) (8.4.0)\n",
      "Requirement already satisfied: scikit-learn in c:\\users\\panda\\anaconda3\\envs\\py38\\lib\\site-packages (from fastai) (1.0.1)\n",
      "Requirement already satisfied: pyyaml in c:\\users\\panda\\anaconda3\\envs\\py38\\lib\\site-packages (from fastai) (6.0)\n",
      "Requirement already satisfied: torchvision>=0.8.2 in c:\\users\\panda\\anaconda3\\envs\\py38\\lib\\site-packages (from fastai) (0.12.0)\n",
      "Requirement already satisfied: matplotlib in c:\\users\\panda\\anaconda3\\envs\\py38\\lib\\site-packages (from fastai) (3.4.3)\n",
      "Requirement already satisfied: scipy in c:\\users\\panda\\anaconda3\\envs\\py38\\lib\\site-packages (from fastai) (1.7.1)\n",
      "Requirement already satisfied: packaging in c:\\users\\panda\\anaconda3\\envs\\py38\\lib\\site-packages (from fastai) (21.0)\n",
      "Requirement already satisfied: spacy<4 in c:\\users\\panda\\anaconda3\\envs\\py38\\lib\\site-packages (from fastai) (3.3.0)\n",
      "Requirement already satisfied: fastcore<1.5,>=1.3.27 in c:\\users\\panda\\anaconda3\\envs\\py38\\lib\\site-packages (from fastai) (1.4.3)\n",
      "Requirement already satisfied: fastdownload<2,>=0.0.5 in c:\\users\\panda\\anaconda3\\envs\\py38\\lib\\site-packages (from fastai) (0.0.5)\n",
      "Requirement already satisfied: catalogue<2.1.0,>=2.0.6 in c:\\users\\panda\\anaconda3\\envs\\py38\\lib\\site-packages (from spacy<4->fastai) (2.0.7)\n",
      "Requirement already satisfied: pathy>=0.3.5 in c:\\users\\panda\\anaconda3\\envs\\py38\\lib\\site-packages (from spacy<4->fastai) (0.6.1)\n",
      "Requirement already satisfied: typer<0.5.0,>=0.3.0 in c:\\users\\panda\\anaconda3\\envs\\py38\\lib\\site-packages (from spacy<4->fastai) (0.4.1)\n",
      "Requirement already satisfied: cymem<2.1.0,>=2.0.2 in c:\\users\\panda\\anaconda3\\envs\\py38\\lib\\site-packages (from spacy<4->fastai) (2.0.6)\n",
      "Requirement already satisfied: spacy-loggers<2.0.0,>=1.0.0 in c:\\users\\panda\\anaconda3\\envs\\py38\\lib\\site-packages (from spacy<4->fastai) (1.0.2)\n",
      "Requirement already satisfied: srsly<3.0.0,>=2.4.3 in c:\\users\\panda\\anaconda3\\envs\\py38\\lib\\site-packages (from spacy<4->fastai) (2.4.3)\n",
      "Requirement already satisfied: thinc<8.1.0,>=8.0.14 in c:\\users\\panda\\anaconda3\\envs\\py38\\lib\\site-packages (from spacy<4->fastai) (8.0.15)\n",
      "Requirement already satisfied: wasabi<1.1.0,>=0.9.1 in c:\\users\\panda\\anaconda3\\envs\\py38\\lib\\site-packages (from spacy<4->fastai) (0.9.1)\n",
      "Requirement already satisfied: setuptools in c:\\users\\panda\\anaconda3\\envs\\py38\\lib\\site-packages (from spacy<4->fastai) (58.0.4)\n",
      "Requirement already satisfied: langcodes<4.0.0,>=3.2.0 in c:\\users\\panda\\anaconda3\\envs\\py38\\lib\\site-packages (from spacy<4->fastai) (3.3.0)\n",
      "Requirement already satisfied: spacy-legacy<3.1.0,>=3.0.9 in c:\\users\\panda\\anaconda3\\envs\\py38\\lib\\site-packages (from spacy<4->fastai) (3.0.9)\n",
      "Requirement already satisfied: jinja2 in c:\\users\\panda\\anaconda3\\envs\\py38\\lib\\site-packages (from spacy<4->fastai) (3.0.2)\n",
      "Requirement already satisfied: tqdm<5.0.0,>=4.38.0 in c:\\users\\panda\\anaconda3\\envs\\py38\\lib\\site-packages (from spacy<4->fastai) (4.64.0)\n",
      "Requirement already satisfied: blis<0.8.0,>=0.4.0 in c:\\users\\panda\\anaconda3\\envs\\py38\\lib\\site-packages (from spacy<4->fastai) (0.7.7)\n",
      "Requirement already satisfied: pydantic!=1.8,!=1.8.1,<1.9.0,>=1.7.4 in c:\\users\\panda\\anaconda3\\envs\\py38\\lib\\site-packages (from spacy<4->fastai) (1.8.2)\n",
      "Requirement already satisfied: preshed<3.1.0,>=3.0.2 in c:\\users\\panda\\anaconda3\\envs\\py38\\lib\\site-packages (from spacy<4->fastai) (3.0.6)\n",
      "Requirement already satisfied: murmurhash<1.1.0,>=0.28.0 in c:\\users\\panda\\anaconda3\\envs\\py38\\lib\\site-packages (from spacy<4->fastai) (1.0.7)\n",
      "Requirement already satisfied: numpy>=1.15.0 in c:\\users\\panda\\anaconda3\\envs\\py38\\lib\\site-packages (from spacy<4->fastai) (1.21.2)\n",
      "Requirement already satisfied: pyparsing>=2.0.2 in c:\\users\\panda\\anaconda3\\envs\\py38\\lib\\site-packages (from packaging->fastai) (2.4.7)\n",
      "Requirement already satisfied: smart-open<6.0.0,>=5.0.0 in c:\\users\\panda\\anaconda3\\envs\\py38\\lib\\site-packages (from pathy>=0.3.5->spacy<4->fastai) (5.2.1)\n",
      "Requirement already satisfied: typing-extensions>=3.7.4.3 in c:\\users\\panda\\anaconda3\\envs\\py38\\lib\\site-packages (from pydantic!=1.8,!=1.8.1,<1.9.0,>=1.7.4->spacy<4->fastai) (3.10.0.2)\n",
      "Requirement already satisfied: certifi>=2017.4.17 in c:\\users\\panda\\anaconda3\\envs\\py38\\lib\\site-packages (from requests->fastai) (2021.5.30)\n",
      "Requirement already satisfied: idna<4,>=2.5 in c:\\users\\panda\\anaconda3\\envs\\py38\\lib\\site-packages (from requests->fastai) (2.10)\n",
      "Requirement already satisfied: charset-normalizer~=2.0.0 in c:\\users\\panda\\anaconda3\\envs\\py38\\lib\\site-packages (from requests->fastai) (2.0.4)\n",
      "Requirement already satisfied: urllib3<1.27,>=1.21.1 in c:\\users\\panda\\anaconda3\\envs\\py38\\lib\\site-packages (from requests->fastai) (1.26.6)\n",
      "Requirement already satisfied: colorama in c:\\users\\panda\\anaconda3\\envs\\py38\\lib\\site-packages (from tqdm<5.0.0,>=4.38.0->spacy<4->fastai) (0.4.4)\n",
      "Requirement already satisfied: click<9.0.0,>=7.1.1 in c:\\users\\panda\\anaconda3\\envs\\py38\\lib\\site-packages (from typer<0.5.0,>=0.3.0->spacy<4->fastai) (8.0.4)\n",
      "Requirement already satisfied: MarkupSafe>=2.0 in c:\\users\\panda\\anaconda3\\envs\\py38\\lib\\site-packages (from jinja2->spacy<4->fastai) (2.0.1)\n",
      "Requirement already satisfied: python-dateutil>=2.7 in c:\\users\\panda\\anaconda3\\envs\\py38\\lib\\site-packages (from matplotlib->fastai) (2.8.2)\n",
      "Requirement already satisfied: cycler>=0.10 in c:\\users\\panda\\anaconda3\\envs\\py38\\lib\\site-packages (from matplotlib->fastai) (0.10.0)\n",
      "Requirement already satisfied: kiwisolver>=1.0.1 in c:\\users\\panda\\anaconda3\\envs\\py38\\lib\\site-packages (from matplotlib->fastai) (1.3.1)\n",
      "Requirement already satisfied: six in c:\\users\\panda\\anaconda3\\envs\\py38\\lib\\site-packages (from cycler>=0.10->matplotlib->fastai) (1.15.0)\n",
      "Requirement already satisfied: pytz>=2017.3 in c:\\users\\panda\\anaconda3\\envs\\py38\\lib\\site-packages (from pandas->fastai) (2021.3)\n",
      "Requirement already satisfied: threadpoolctl>=2.0.0 in c:\\users\\panda\\anaconda3\\envs\\py38\\lib\\site-packages (from scikit-learn->fastai) (2.2.0)\n",
      "Requirement already satisfied: joblib>=0.11 in c:\\users\\panda\\anaconda3\\envs\\py38\\lib\\site-packages (from scikit-learn->fastai) (1.1.0)\n",
      "\n"
     ]
    }
   ],
   "source": [
    "pip install fastai"
   ]
  },
  {
   "cell_type": "code",
   "execution_count": 9,
   "id": "24cf58b6",
   "metadata": {},
   "outputs": [
    {
     "name": "stderr",
     "output_type": "stream",
     "text": [
      "C:\\Users\\panda\\anaconda3\\envs\\py38\\lib\\site-packages\\tqdm\\auto.py:22: TqdmWarning: IProgress not found. Please update jupyter and ipywidgets. See https://ipywidgets.readthedocs.io/en/stable/user_install.html\n",
      "  from .autonotebook import tqdm as notebook_tqdm\n"
     ]
    }
   ],
   "source": [
    "from fastai.vision.all import * "
   ]
  },
  {
   "cell_type": "code",
   "execution_count": 10,
   "id": "60e78e64",
   "metadata": {},
   "outputs": [],
   "source": [
    "path='D:\\sample 1\\corn disease'"
   ]
  },
  {
   "cell_type": "code",
   "execution_count": 11,
   "id": "bc828686",
   "metadata": {},
   "outputs": [
    {
     "data": {
      "text/plain": [
       "(#9145) [Path('D:/sample 1/corn disease/train/Corn_(maize)___Cercospora_leaf_spot Gray_leaf_spot/00120a18-ff90-46e4-92fb-2b7a10345bd3___RS_GLSp 9357_270deg.JPG'),Path('D:/sample 1/corn disease/train/Corn_(maize)___Cercospora_leaf_spot Gray_leaf_spot/00120a18-ff90-46e4-92fb-2b7a10345bd3___RS_GLSp 9357_new30degFlipLR.JPG'),Path('D:/sample 1/corn disease/train/Corn_(maize)___Cercospora_leaf_spot Gray_leaf_spot/00a20f6f-e8bd-4453-9e25-36ea70feb626___RS_GLSp 4655.JPG'),Path('D:/sample 1/corn disease/train/Corn_(maize)___Cercospora_leaf_spot Gray_leaf_spot/00a20f6f-e8bd-4453-9e25-36ea70feb626___RS_GLSp 4655_270deg.JPG'),Path('D:/sample 1/corn disease/train/Corn_(maize)___Cercospora_leaf_spot Gray_leaf_spot/00a20f6f-e8bd-4453-9e25-36ea70feb626___RS_GLSp 4655_90deg.JPG'),Path('D:/sample 1/corn disease/train/Corn_(maize)___Cercospora_leaf_spot Gray_leaf_spot/00a20f6f-e8bd-4453-9e25-36ea70feb626___RS_GLSp 4655_new30degFlipLR.JPG'),Path('D:/sample 1/corn disease/train/Corn_(maize)___Cercospora_leaf_spot Gray_leaf_spot/0140764c-6157-4995-9ada-9c10b81af3b8___RS_GLSp 4378_90deg.JPG'),Path('D:/sample 1/corn disease/train/Corn_(maize)___Cercospora_leaf_spot Gray_leaf_spot/0140764c-6157-4995-9ada-9c10b81af3b8___RS_GLSp 4378_new30degFlipLR.JPG'),Path('D:/sample 1/corn disease/train/Corn_(maize)___Cercospora_leaf_spot Gray_leaf_spot/0157de0c-5b81-44a1-abe8-eecaa6f1261a___RS_GLSp 4287.JPG'),Path('D:/sample 1/corn disease/train/Corn_(maize)___Cercospora_leaf_spot Gray_leaf_spot/0157de0c-5b81-44a1-abe8-eecaa6f1261a___RS_GLSp 4287_270deg.JPG')...]"
      ]
     },
     "execution_count": 11,
     "metadata": {},
     "output_type": "execute_result"
    }
   ],
   "source": [
    "fns=get_image_files(path)\n",
    "fns"
   ]
  },
  {
   "cell_type": "code",
   "execution_count": 12,
   "id": "3678c2cd",
   "metadata": {},
   "outputs": [],
   "source": [
    "leaf=DataBlock(blocks=(ImageBlock,CategoryBlock),\n",
    "               get_items=get_image_files,\n",
    "               splitter=RandomSplitter(valid_pct=(0.2),seed=42),\n",
    "               get_y=parent_label,item_tfms=Resize(224))"
   ]
  },
  {
   "cell_type": "code",
   "execution_count": 13,
   "id": "e599c547",
   "metadata": {},
   "outputs": [],
   "source": [
    "dls=leaf.dataloaders(path,num_workers = 0,bs=64)"
   ]
  },
  {
   "cell_type": "code",
   "execution_count": 14,
   "id": "d76fe298",
   "metadata": {},
   "outputs": [
    {
     "name": "stderr",
     "output_type": "stream",
     "text": [
      "C:\\Users\\panda\\anaconda3\\envs\\py38\\lib\\site-packages\\fastai\\vision\\learner.py:265: UserWarning: `cnn_learner` has been renamed to `vision_learner` -- please update your code\n",
      "  warn(\"`cnn_learner` has been renamed to `vision_learner` -- please update your code\")\n",
      "Downloading: \"https://download.pytorch.org/models/resnet18-f37072fd.pth\" to C:\\Users\\panda/.cache\\torch\\hub\\checkpoints\\resnet18-f37072fd.pth\n",
      "100%|█████████████████████████████████████████████████████████████████████████████| 44.7M/44.7M [00:01<00:00, 31.6MB/s]\n"
     ]
    }
   ],
   "source": [
    "learner=cnn_learner(dls,resnet18,metrics=[accuracy, error_rate])"
   ]
  },
  {
   "cell_type": "code",
   "execution_count": 15,
   "id": "3e00405b",
   "metadata": {},
   "outputs": [
    {
     "data": {
      "text/html": [
       "\n",
       "<style>\n",
       "    /* Turns off some styling */\n",
       "    progress {\n",
       "        /* gets rid of default border in Firefox and Opera. */\n",
       "        border: none;\n",
       "        /* Needs to be in here for Safari polyfill so background images work as expected. */\n",
       "        background-size: auto;\n",
       "    }\n",
       "    .progress-bar-interrupted, .progress-bar-interrupted::-webkit-progress-bar {\n",
       "        background: #F44336;\n",
       "    }\n",
       "</style>\n"
      ],
      "text/plain": [
       "<IPython.core.display.HTML object>"
      ]
     },
     "metadata": {},
     "output_type": "display_data"
    },
    {
     "data": {
      "text/html": [],
      "text/plain": [
       "<IPython.core.display.HTML object>"
      ]
     },
     "metadata": {},
     "output_type": "display_data"
    },
    {
     "data": {
      "image/png": "[encoded data removed]",
      "text/plain": [
       "<Figure size 432x288 with 1 Axes>"
      ]
     },
     "metadata": {
      "needs_background": "light"
     },
     "output_type": "display_data"
    }
   ],
   "source": [
    "lr_min,lr_steep = learner.lr_find(suggest_funcs=(minimum,steep))"
   ]
  },
  {
   "cell_type": "code",
   "execution_count": 16,
   "id": "7ee332af",
   "metadata": {},
   "outputs": [
    {
     "name": "stdout",
     "output_type": "stream",
     "text": [
      "Minimum/10: 1.74e-02, steepest point: 1.45e-03\n"
     ]
    }
   ],
   "source": [
    "print(f\"Minimum/10: {lr_min:.2e}, steepest point: {lr_steep:.2e}\")"
   ]
  },
  {
   "cell_type": "code",
   "execution_count": 17,
   "id": "2e6f52f4",
   "metadata": {},
   "outputs": [
    {
     "data": {
      "text/plain": [
       "0.0014454397605732083"
      ]
     },
     "execution_count": 17,
     "metadata": {},
     "output_type": "execute_result"
    }
   ],
   "source": [
    "lr_steep"
   ]
  },
  {
   "cell_type": "code",
   "execution_count": null,
   "id": "1f900a65",
   "metadata": {},
   "outputs": [
    {
     "data": {
      "text/html": [
       "\n",
       "<style>\n",
       "    /* Turns off some styling */\n",
       "    progress {\n",
       "        /* gets rid of default border in Firefox and Opera. */\n",
       "        border: none;\n",
       "        /* Needs to be in here for Safari polyfill so background images work as expected. */\n",
       "        background-size: auto;\n",
       "    }\n",
       "    .progress-bar-interrupted, .progress-bar-interrupted::-webkit-progress-bar {\n",
       "        background: #F44336;\n",
       "    }\n",
       "</style>\n"
      ],
      "text/plain": [
       "<IPython.core.display.HTML object>"
      ]
     },
     "metadata": {},
     "output_type": "display_data"
    },
    {
     "data": {
      "text/html": [
       "\n",
       "    <div>\n",
       "      <progress value='0' class='' max='1' style='width:300px; height:20px; vertical-align: middle;'></progress>\n",
       "      0.00% [0/1 00:00<00:00]\n",
       "    </div>\n",
       "    \n",
       "<table border=\"1\" class=\"dataframe\">\n",
       "  <thead>\n",
       "    <tr style=\"text-align: left;\">\n",
       "      <th>epoch</th>\n",
       "      <th>train_loss</th>\n",
       "      <th>valid_loss</th>\n",
       "      <th>accuracy</th>\n",
       "      <th>error_rate</th>\n",
       "      <th>time</th>\n",
       "    </tr>\n",
       "  </thead>\n",
       "  <tbody>\n",
       "  </tbody>\n",
       "</table><p>\n",
       "\n",
       "    <div>\n",
       "      <progress value='82' class='' max='114' style='width:300px; height:20px; vertical-align: middle;'></progress>\n",
       "      71.93% [82/114 05:49<02:16 0.4681]\n",
       "    </div>\n",
       "    "
      ],
      "text/plain": [
       "<IPython.core.display.HTML object>"
      ]
     },
     "metadata": {},
     "output_type": "display_data"
    }
   ],
   "source": [
    "learner.fine_tune(3,base_lr=lr_steep,cbs=[ShowGraphCallback()])"
   ]
  },
  {
   "cell_type": "code",
   "execution_count": null,
   "id": "b46f8b00",
   "metadata": {},
   "outputs": [],
   "source": []
  }
 ],
 "metadata": {
  "kernelspec": {
   "display_name": "Python 3",
   "language": "python",
   "name": "python3"
  },
  "language_info": {
   "codemirror_mode": {
    "name": "ipython",
    "version": 3
   },
   "file_extension": ".py",
   "mimetype": "text/x-python",
   "name": "python",
   "nbconvert_exporter": "python",
   "pygments_lexer": "ipython3",
   "version": "3.8.8"
  }
 },
 "nbformat": 4,
 "nbformat_minor": 5
}
